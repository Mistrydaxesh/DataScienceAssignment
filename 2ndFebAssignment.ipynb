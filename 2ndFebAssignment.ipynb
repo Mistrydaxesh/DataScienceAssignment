{
 "cells": [
  {
   "cell_type": "markdown",
   "id": "8834aa38-5790-4363-8472-016280e0d327",
   "metadata": {},
   "source": [
    "## Q1.What are the characteristics of the tuples? Is tuple immutable?"
   ]
  },
  {
   "cell_type": "markdown",
   "id": "45a98e26-33b9-4e0e-937c-68b335a43227",
   "metadata": {
    "tags": []
   },
   "source": [
    "## Answer:\n",
    "Tuples are an ordered, immutable, and heterogeneous collection of elements in many programming languages including Python. Here are the main characteristics of tuples:\n",
    "\n",
    "#### Order: \n",
    "Tuples maintain the order of the elements as they were added, so the first element is at index 0, the second element is at index 1, and so on.\n",
    "\n",
    "#### Immutability: \n",
    "Once a tuple is created, its elements cannot be changed. This makes tuples useful for representing fixed, unchanging data.\n",
    "\n",
    "#### Heterogeneous elements: \n",
    "Tuples can contain elements of different data types, such as integers, strings, and other data structures like lists or tuples.\n",
    "\n",
    "#### Indexing: \n",
    "Each element in a tuple can be accessed using its index, just like with lists.\n",
    "\n",
    "#### Iterability: \n",
    "Tuples are iterable, which means that you can loop over the elements of a tuple and access each one in turn.\n",
    "\n",
    "#### Fixed size:\n",
    "Once a tuple is created, its size cannot be changed. This means you cannot add or remove elements from a tuple after it has been created.\n",
    "\n",
    "These characteristics make tuples a versatile and efficient data structure for many programming tasks."
   ]
  },
  {
   "cell_type": "markdown",
   "id": "c05bb21d-de4a-469c-932c-f02db1a72fbd",
   "metadata": {},
   "source": [
    "# Q2. "
   ]
  },
  {
   "cell_type": "markdown",
   "id": "3efc05e8-01e9-4121-b4f9-e2bb85ce2e46",
   "metadata": {},
   "source": [
    "##  What are the two tuple methods in python? Give an example of each method. Give a reason why tuples have only two in-built methods as compared to Lists.\n"
   ]
  },
  {
   "cell_type": "markdown",
   "id": "36d1b198-0a0c-493b-9dee-6d3aa102fbe2",
   "metadata": {},
   "source": [
    "## Answer:\n",
    "In Python, tuples have two built-in methods:\n",
    "\n",
    "**count()**: This method returns the number of times a specified element appears in the tuple. For example:"
   ]
  },
  {
   "cell_type": "code",
   "execution_count": 2,
   "id": "546f2d2d-9ddd-4adb-9bdc-830dd577a700",
   "metadata": {},
   "outputs": [
    {
     "data": {
      "text/plain": [
       "2"
      ]
     },
     "execution_count": 2,
     "metadata": {},
     "output_type": "execute_result"
    }
   ],
   "source": [
    "numbers = (1, 2, 3, 2, 4, 1)\n",
    "numbers.count(2)"
   ]
  },
  {
   "cell_type": "markdown",
   "id": "3f149729-e6e6-4744-9029-588371d245e4",
   "metadata": {},
   "source": [
    "**index()**: This method returns the index of the first occurrence of a specified element in the tuple. For example:"
   ]
  },
  {
   "cell_type": "markdown",
   "id": "ad2c6cb0-9c90-438c-a3a6-6d64b1761596",
   "metadata": {},
   "source": [
    "numbers = (1, 2, 3, 2, 4, 1)\n",
    "numbers.index(2)"
   ]
  },
  {
   "cell_type": "markdown",
   "id": "78ba5acc-a3bd-4991-8aff-f6d6189c6eda",
   "metadata": {},
   "source": [
    "Tuples have only two built-in methods because they are intended to be simple and lightweight data structures, used for representing fixed, ordered collections of values. Lists, on the other hand, are more flexible and powerful data structures that allow for more operations, such as adding and removing elements. As a result, lists have more built-in methods, such as append(), insert(), remove(), and others, to support these operations."
   ]
  },
  {
   "cell_type": "markdown",
   "id": "4514d8dd-91c7-4c1f-9ff3-567015c9ec3e",
   "metadata": {},
   "source": [
    "# Q3."
   ]
  },
  {
   "cell_type": "markdown",
   "id": "5c34c5ce-1cb8-42c4-a194-3f0bb4e2aecd",
   "metadata": {},
   "source": [
    "## Which collection datatypes in python do not allow duplicate items? Write a code using a set to remove duplicates from the given list.\n",
    "\n",
    "```\n",
    "List = [1, 1, 1, 2, 1, 3, 1, 4, 2, 1, 2, 2, 2, 3, 2, 4, 3, 1, 3, 2, 3, 3, 3, 4, 4, 1, 4, 2, 4, 3, 4, 4]\n",
    "```"
   ]
  },
  {
   "cell_type": "markdown",
   "id": "459612aa-aa78-433c-90e9-36a72ccc043e",
   "metadata": {},
   "source": [
    "## Answer:\n",
    "In Python, the set data type can contain only unique itmes. The example code below removes all duplicate items from list using set - "
   ]
  },
  {
   "cell_type": "code",
   "execution_count": 4,
   "id": "7f8cd361-e6e6-463e-a8f9-dd23236fc732",
   "metadata": {},
   "outputs": [
    {
     "data": {
      "text/plain": [
       "[1, 2, 3, 4]"
      ]
     },
     "execution_count": 4,
     "metadata": {},
     "output_type": "execute_result"
    }
   ],
   "source": [
    "List = [1, 1, 1, 2, 1, 3, 1, 4, 2, 1, 2, 2, 2, 3, 2, 4, 3, 1, 3, 2, 3, 3, 3, 4, 4, 1, 4, 2, 4, 3, 4, 4]\n",
    "\n",
    "# No duplicate items\n",
    "unique_items = set(List)\n",
    "\n",
    "# Converting back to list\n",
    "unique_items = list(unique_items)\n",
    "unique_items"
   ]
  },
  {
   "cell_type": "markdown",
   "id": "c59af0e9-9d9e-4d4d-8bae-29bfcd39f1f5",
   "metadata": {},
   "source": [
    "# Q4."
   ]
  },
  {
   "cell_type": "markdown",
   "id": "8fca7225-0eaa-4d29-9503-dbac458a1f0e",
   "metadata": {},
   "source": [
    "## Explain the difference between the union() and update() methods for a set. Give an example of each method."
   ]
  },
  {
   "cell_type": "markdown",
   "id": "232fefc6-4264-4f1f-a51e-deadd853ada7",
   "metadata": {},
   "source": [
    "## Answer:\n",
    "In Python, the union() and update() methods are used to combine two or more sets. However, there are some key differences between these methods:\n",
    "\n",
    "**union()**: This method returns a new set that is the union of two or more sets. The original sets are not modified. For example:"
   ]
  },
  {
   "cell_type": "code",
   "execution_count": 5,
   "id": "807bde2b-b9bf-41ff-a582-cb995c2ec037",
   "metadata": {},
   "outputs": [
    {
     "name": "stdout",
     "output_type": "stream",
     "text": [
      "{1, 2, 3, 4}\n"
     ]
    }
   ],
   "source": [
    "set1 = {1, 2, 3}\n",
    "set2 = {2, 3, 4}\n",
    "set3 = set1.union(set2)\n",
    "print(set3)"
   ]
  },
  {
   "cell_type": "markdown",
   "id": "8359be18-5e8e-4f36-9dff-cfe051d35d07",
   "metadata": {},
   "source": [
    "**update()**: This method adds the elements of one set to another set. The original set is modified. For example:"
   ]
  },
  {
   "cell_type": "code",
   "execution_count": 7,
   "id": "8a7f9a46-b289-489c-8ba7-fe5cf3ed26b1",
   "metadata": {},
   "outputs": [
    {
     "name": "stdout",
     "output_type": "stream",
     "text": [
      "{1, 2, 3, 4}\n"
     ]
    }
   ],
   "source": [
    "set1 = {1, 2, 3}\n",
    "set2 = {2, 3, 4}\n",
    "set1.update(set2)\n",
    "print(set1)"
   ]
  },
  {
   "cell_type": "markdown",
   "id": "16c76c07-5d42-44ad-a6d4-87b389d4e7f5",
   "metadata": {},
   "source": [
    "So, the main difference between **union()** and **update()** is that **union()** returns a new set that is the union of two sets, while **update()** modifies the original set to include the elements of another set."
   ]
  },
  {
   "cell_type": "markdown",
   "id": "1f6da4c1-5d13-441e-a08f-07ceefb47022",
   "metadata": {},
   "source": [
    "# Q5."
   ]
  },
  {
   "cell_type": "markdown",
   "id": "0ba1ea7c-d411-4b2c-9033-22ac2045f22d",
   "metadata": {},
   "source": [
    "## What is a dictionary? Give an example. Also, state whether a dictionary is ordered or unordered."
   ]
  },
  {
   "cell_type": "markdown",
   "id": "c6159a82-fa52-4b7c-9712-dfb7f56f0837",
   "metadata": {},
   "source": [
    "## Answer:\n",
    "A dictionary in Python is an unordered collection of key-value pairs, where each key is unique. It is also known as a mapping and is a built-in data type in Python. Dictionaries are defined using curly braces {}, with the key-value pairs separated by a colon :.\n",
    "\n",
    "Here's an example of a dictionary in Python:"
   ]
  },
  {
   "cell_type": "code",
   "execution_count": 9,
   "id": "a69510a9-bde7-4a29-b368-39e3b571ee2a",
   "metadata": {},
   "outputs": [
    {
     "name": "stdout",
     "output_type": "stream",
     "text": [
      "Kumar\n",
      "20\n",
      "22\n",
      "{'name': 'Kumar', 'age': 22, 'gender': 'male', 'email': 'kumar@gmail.com'}\n"
     ]
    }
   ],
   "source": [
    "# Creating a dictionary\n",
    "person = {'name': 'Kumar', 'age': 20, 'gender': 'male'}\n",
    "\n",
    "# Accessing the valuces\n",
    "print(person['name']) # Output: Kumar\n",
    "print(person['age']) # Output: 20\n",
    "\n",
    "# Updating the values\n",
    "person['age'] = 22\n",
    "print(person['age']) # Output: 22\n",
    "\n",
    "# Adding a new key-value pair\n",
    "person['email'] = 'kumar@gmail.com'\n",
    "print(person)"
   ]
  },
  {
   "cell_type": "markdown",
   "id": "e6e42e22-38d5-4f86-bc43-82e73834b073",
   "metadata": {},
   "source": [
    "As mentioned before, dictionaries are unordered, which means that the key-value pairs are not stored in any particular order. This means that when you access or iterate over the values in a dictionary, the order may not be the same as the order in which they were inserted. If you need an ordered collection of key-value pairs, you can use the `collections.OrderedDict` class."
   ]
  },
  {
   "cell_type": "markdown",
   "id": "fe688b6e-762d-417b-bcbd-a36b9743543d",
   "metadata": {},
   "source": [
    "# Q6."
   ]
  },
  {
   "cell_type": "markdown",
   "id": "c583384f-c95c-446a-959a-49ea9bd54754",
   "metadata": {},
   "source": [
    "## Can we create a nested dictionary? If so, please give an example by creating a simple one-level nested dictionary.\n"
   ]
  },
  {
   "cell_type": "markdown",
   "id": "d085dfc3-ae7a-4d86-9275-37c09fdb02eb",
   "metadata": {},
   "source": [
    "## Answer:\n",
    "Yes, you can create a nested dictionary in Python, where the values of a dictionary can be dictionaries themselves. Here's an example of a simple one-level nested dictionary:"
   ]
  },
  {
   "cell_type": "code",
   "execution_count": 11,
   "id": "edec9ca6-f8f1-47b6-ba2d-1cf07a0c631c",
   "metadata": {},
   "outputs": [
    {
     "name": "stdout",
     "output_type": "stream",
     "text": [
      "John Doe\n",
      "30\n",
      "{'street': '123 Main St', 'city': 'San Francisco', 'state': 'CA'}\n",
      "San Francisco\n",
      "31\n",
      "{'name': 'John Doe', 'age': 31, 'address': {'street': '123 Main St', 'city': 'San Francisco', 'state': 'CA', 'zipcode': '94102'}}\n"
     ]
    }
   ],
   "source": [
    "# Creating a nested dictionary\n",
    "person = {'name': 'John Doe', 'age': 30, 'address': {'street': '123 Main St', 'city': 'San Francisco', 'state': 'CA'}}\n",
    "\n",
    "# Accessing the values\n",
    "print(person['name']) # Output: John Doe\n",
    "print(person['age']) # Output: 30\n",
    "print(person['address']) # Output: {'street': '123 Main St', 'city': 'San Francisco', 'state': 'CA'}\n",
    "print(person['address']['city']) # Output: San Francisco\n",
    "\n",
    "# Updating the values\n",
    "person['age'] = 31\n",
    "print(person['age']) # Output: 31\n",
    "\n",
    "# Adding a new key-value pair\n",
    "person['address']['zipcode'] = '94102'\n",
    "print(person) # Output: {'name': 'John Doe', 'age': 31, 'address': {'street': '123 Main St', 'city': 'San Francisco', 'state': 'CA', 'zipcode': '94102'}}\n"
   ]
  },
  {
   "cell_type": "markdown",
   "id": "05406563-31da-4ef2-8b26-7a88d376c755",
   "metadata": {},
   "source": [
    "As you can see, the value of the `address` key is itself a dictionary, which allows you to store multiple key-value pairs within a single key. This way, you can create nested dictionaries of any level of complexity."
   ]
  },
  {
   "cell_type": "markdown",
   "id": "ec321531-3d7e-4db8-991c-2c4cb4b983fe",
   "metadata": {},
   "source": [
    "# Q7."
   ]
  },
  {
   "cell_type": "markdown",
   "id": "9f083115-0d2f-480f-bb5a-2214132f6083",
   "metadata": {},
   "source": [
    "## Using setdefault() method, create key named topics in the given dictionary and also add the value of the key as this list - \n",
    "\n",
    "```\n",
    "['Python', 'Machine Learning’, 'Deep Learning']\n",
    "    \n",
    "dict1 = {'language' : 'Python', 'course': 'Data Science Masters'}\n",
    "```"
   ]
  },
  {
   "cell_type": "markdown",
   "id": "a166b70d-c24f-4bc0-a52a-2b8e109b127b",
   "metadata": {},
   "source": [
    "## Answer:\n",
    "The `setdefault()` method allows you to add a new key-value pair to a dictionary, or update the value of an existing key, if the key is already present in the dictionary. Here's how you can use the `setdefault()` method to add the `topics` key to the `dict1` dictionary, with the value being a list of topics:"
   ]
  },
  {
   "cell_type": "code",
   "execution_count": 12,
   "id": "69687a73-1e41-4ce9-b0cb-592cf89b39f9",
   "metadata": {},
   "outputs": [
    {
     "name": "stdout",
     "output_type": "stream",
     "text": [
      "{'language': 'Python', 'course': 'Data Science Masters', 'topics': ['Python', 'Machine Learning', 'Deep Learning']}\n"
     ]
    }
   ],
   "source": [
    "dict1 = {'language' : 'Python', 'course': 'Data Science Masters'}\n",
    "\n",
    "# Using setdefault() method to add key-value pair\n",
    "dict1.setdefault('topics', ['Python', 'Machine Learning', 'Deep Learning'])\n",
    "\n",
    "# Checking the dictionary after adding the key-value pair\n",
    "print(dict1)"
   ]
  },
  {
   "cell_type": "markdown",
   "id": "99229156-88fa-4241-b779-83f85f5ec6d4",
   "metadata": {},
   "source": [
    "As you can see, the `setdefault()` method allows you to add a new key-value pair to the dictionary if the key does not already exist in the dictionary. If the key exists, it updates the value of the key with the new value."
   ]
  },
  {
   "cell_type": "markdown",
   "id": "0f14846d-f654-4b55-9406-5365716731d4",
   "metadata": {},
   "source": [
    "# Q8."
   ]
  },
  {
   "cell_type": "markdown",
   "id": "7f3d65b3-302d-4d00-9d28-cd50e19a7e43",
   "metadata": {},
   "source": [
    "## What are the three view objects in dictionaries? Use the three in-built methods in python to display these three view objects for the given dictionary.\n",
    "\n",
    "    dict1 = {'Sport': 'Cricket' , 'Teams': ['India', 'Australia', 'England', 'South Africa', 'Sri Lanka', 'New Zealand']}"
   ]
  },
  {
   "cell_type": "markdown",
   "id": "2113b3da-bcb8-4ef7-88f6-eaabaa415a3d",
   "metadata": {},
   "source": [
    "## Answer:\n",
    "There are three view objects in dictionaries in Python: **keys()**, **values()**, and **items()**.\n",
    "\n",
    "**keys()**: returns a view object that displays a list of all the keys in the dictionary.\n",
    "**values()**: returns a view object that displays a list of all the values in the dictionary.\n",
    "**items()**: returns a view object that displays a list of all the key-value pairs in the dictionary as tuples.\n",
    "\n",
    "Here's how you can display these three view objects for the dict1 dictionary:"
   ]
  },
  {
   "cell_type": "code",
   "execution_count": 13,
   "id": "9d7f0ad4-506a-4490-8ec2-e09b2cff2ad8",
   "metadata": {},
   "outputs": [
    {
     "name": "stdout",
     "output_type": "stream",
     "text": [
      "Dictionary keys: dict_keys(['Sport', 'Teams'])\n",
      "Dictionary values: dict_values(['Cricket', ['India', 'Australia', 'England', 'South Africa', 'Sri Lanka', 'New Zealand']])\n",
      "Dictionary items: dict_items([('Sport', 'Cricket'), ('Teams', ['India', 'Australia', 'England', 'South Africa', 'Sri Lanka', 'New Zealand'])])\n"
     ]
    }
   ],
   "source": [
    "dict1 = {'Sport': 'Cricket' , 'Teams': ['India', 'Australia', 'England', 'South Africa', 'Sri Lanka', 'New Zealand']}\n",
    "\n",
    "# Displaying keys in the dictionary\n",
    "print(\"Dictionary keys:\", dict1.keys())\n",
    "\n",
    "# Displaying values in the dictionary\n",
    "print(\"Dictionary values:\", dict1.values())\n",
    "\n",
    "# Displaying key-value pairs in the dictionary\n",
    "print(\"Dictionary items:\", dict1.items())"
   ]
  },
  {
   "cell_type": "code",
   "execution_count": null,
   "id": "86287156-764e-4e56-9b92-f35c17de5223",
   "metadata": {},
   "outputs": [],
   "source": []
  }
 ],
 "metadata": {
  "kernelspec": {
   "display_name": "Python 3 (ipykernel)",
   "language": "python",
   "name": "python3"
  },
  "language_info": {
   "codemirror_mode": {
    "name": "ipython",
    "version": 3
   },
   "file_extension": ".py",
   "mimetype": "text/x-python",
   "name": "python",
   "nbconvert_exporter": "python",
   "pygments_lexer": "ipython3",
   "version": "3.10.8"
  }
 },
 "nbformat": 4,
 "nbformat_minor": 5
}
